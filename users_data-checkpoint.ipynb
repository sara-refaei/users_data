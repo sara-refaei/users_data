{
 "cells": [
  {
   "cell_type": "code",
   "execution_count": 1,
   "metadata": {},
   "outputs": [],
   "source": [
    "#import libraries\n",
    "import requests\n",
    "import csv"
   ]
  },
  {
   "cell_type": "code",
   "execution_count": 4,
   "metadata": {},
   "outputs": [],
   "source": [
    "#make a responce and get data\n",
    "response = requests.get('https://jsonplaceholder.typicode.com/users')\n",
    "users_data = response.json()"
   ]
  },
  {
   "cell_type": "code",
   "execution_count": 32,
   "metadata": {},
   "outputs": [],
   "source": [
    "#create a CSV file\n",
    "with open('users data', 'w', newline = '') as f:\n",
    "    writer = csv.DictWriter(f, fieldnames = ['name', 'username', 'email', 'street', 'suite', 'city', 'zipcode','geo_lat', 'geo_lng'])\n",
    "    writer.writeheader()\n",
    "\n",
    "\n",
    "    for u in users_data:\n",
    "        name = u['name']\n",
    "        username = u['username']\n",
    "        email = u['email']\n",
    "        street = u['address']['street']\n",
    "        suite = u['address']['suite']\n",
    "        city = u['address']['city']\n",
    "        zipcode = u['address']['zipcode']\n",
    "        geo_lat = u['address']['geo']['lat']\n",
    "        geo_lng = u['address']['geo']['lng']\n",
    "    \n",
    "        writer.writerow(\n",
    "        {\n",
    "        'name' : name ,\n",
    "        'username' : username ,\n",
    "        'email' : email ,\n",
    "        'street' : street ,\n",
    "        'suite' : suite ,\n",
    "        'city' : city ,\n",
    "        'zipcode' : zipcode ,\n",
    "        'geo_lat' : geo_lat ,\n",
    "        'geo_lng' : suite\n",
    "        }\n",
    "        )\n",
    "    "
   ]
  },
  {
   "cell_type": "code",
   "execution_count": null,
   "metadata": {},
   "outputs": [],
   "source": []
  },
  {
   "cell_type": "code",
   "execution_count": null,
   "metadata": {},
   "outputs": [],
   "source": []
  },
  {
   "cell_type": "code",
   "execution_count": null,
   "metadata": {},
   "outputs": [],
   "source": []
  },
  {
   "cell_type": "code",
   "execution_count": null,
   "metadata": {},
   "outputs": [],
   "source": []
  }
 ],
 "metadata": {
  "kernelspec": {
   "display_name": "Python 3",
   "language": "python",
   "name": "python3"
  },
  "language_info": {
   "codemirror_mode": {
    "name": "ipython",
    "version": 3
   },
   "file_extension": ".py",
   "mimetype": "text/x-python",
   "name": "python",
   "nbconvert_exporter": "python",
   "pygments_lexer": "ipython3",
   "version": "3.7.6"
  }
 },
 "nbformat": 4,
 "nbformat_minor": 4
}
